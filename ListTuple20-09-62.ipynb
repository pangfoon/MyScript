{
 "cells": [
  {
   "cell_type": "code",
   "execution_count": 15,
   "metadata": {},
   "outputs": [
    {
     "name": "stdout",
     "output_type": "stream",
     "text": [
      "Total Month: ['Jan', 'Feb', 'Mar', 'Apr', 'May', 'Jun', 'Jul', 'Aug', 'sep', 'Oct', 'Nov', 'Dec']\n",
      "Month Remaining: ['Jan', 'Mar', 'Apr', 'May', 'Jul', 'Aug', 'sep', 'Oct', 'Dec']\n"
     ]
    }
   ],
   "source": [
    "#1.กำหนดให้ month= [\"Jan\",\"May\",\"Jul\",\"Aug\",\"Oct\",\"Dec\"]\n",
    "\n",
    "#1.1 ให้เขียนคำสั่งโปรแกรมเรียกใช้เมธอด แทรกเดือนที่ขาดหายไป\n",
    "month= [\"Jan\",\"May\",\"Jul\",\"Aug\",\"Oct\",\"Dec\"]\n",
    "month.insert(1,\"Feb\")\n",
    "month.insert(2,\"Mar\")\n",
    "month.insert(3,\"Apr\")\n",
    "month.insert(5,\"Jun\")\n",
    "month.insert(8,\"sep\")\n",
    "month.insert(10,\"Nov\")\n",
    "print(\"Total Month:\",month)\n",
    "\n",
    "# 1.2 ให้เขียนคำสั่งโปรแกรมเรียกใช้เมธอด ลบชื่อเดือนตำแหน่งที่ 2,5,9 ออกจากลิสต์\n",
    "month.pop(1)\n",
    "month.pop(4)\n",
    "month.pop(8)\n",
    "\n",
    "#1.3 ให้เขียนคำสั่งโปรแกรมเรียกเมธอด แสดงชื่อเดือนที่เหลืออยู่ในลิสต์\n",
    "print(\"Month Remaining:\",month)"
   ]
  },
  {
   "cell_type": "code",
   "execution_count": 30,
   "metadata": {},
   "outputs": [
    {
     "name": "stdout",
     "output_type": "stream",
     "text": [
      "Sort Day: ['Sat', 'Fri', 'Thu', 'Wed', 'Tue', 'Mon', 'Sun']\n",
      "Day Order: ['Fri', 'Mon', 'Sat', 'Sun', 'Thu', 'Tue', 'Wed']\n",
      "Day Removed: Sat Thu Wed\n"
     ]
    }
   ],
   "source": [
    "#2. กำหนดให้  day =[\"Sun\",\"Mon\",\"Tue\",\"Wed\",\"Thu\",\"Fri\",\"Sat\"]\n",
    "#2.1 ให้เขียนคำสั่งโปรแกรมเรียกใช้เมธอดเรื่องชื่อวันจากท้ายสุด\n",
    "day=[\"Sun\",\"Mon\",\"Tue\",\"Wed\",\"Thu\",\"Fri\",\"Sat\"]\n",
    "day.reverse()\n",
    "print(\"Sort Day:\",day)\n",
    "\n",
    "#2.2 ให้เขียนคำสั่งโปรแกรมเรียกใช้เมธอดเรียงลำดับชื่อวันตามตัวอักษร\n",
    "day.sort()\n",
    "print(\"Day Order:\",day)\n",
    "\n",
    "#2.3 ให้เขียนคำสั่งโปรแกรมแสดงชื่อวัน ในตำแหน่งที่ 3, 5 และ 7\n",
    "print(\"Day Removed:\",day[2],day[4],day[6])"
   ]
  },
  {
   "cell_type": "code",
   "execution_count": 28,
   "metadata": {},
   "outputs": [
    {
     "name": "stdout",
     "output_type": "stream",
     "text": [
      "Position of Benz  is  2\n",
      "Position of Ford  is  5\n",
      "Position of Volvo  is  7\n",
      "Number of Brand car is 8 brand\n",
      "Have Suzuki in brand car? =  False\n",
      "Have Ferrari in brand car? =  False\n",
      "Have Ford in brand car? =  True\n"
     ]
    }
   ],
   "source": [
    "#1. กำหนดให้ brand_cars = (\"Toyota\", \"Honda\", \"Benz\", \"BMW\", \"Tesla\", \"Ford\", \"KIA\", \"Volvo\" )\n",
    "#1.1 ให้เขียนโปรแกรมแสดงตำแหน่งของ Benz,Ford,Volvo\n",
    "brand_cars = (\"Toyota\", \"Honda\", \"Benz\", \"BMW\", \"Tesla\", \"Ford\", \"KIA\", \"Volvo\" )\n",
    "print(\"Position of Benz  is \", brand_cars.index(\"Benz\",))\n",
    "print(\"Position of Ford  is \", brand_cars.index(\"Ford\"))\n",
    "print(\"Position of Volvo  is \", brand_cars.index(\"Volvo\"))\n",
    "\n",
    "#1.2 ให้เขียนคำสั่งโปรแกรมแสดงจำนวนข้อมูลทั้งหมดในทูเพิล\n",
    "brand_cars = (\"Toyota\", \"Honda\", \"Benz\", \"BMW\", \"Tesla\", \"Ford\", \"KIA\", \"Volvo\")\n",
    "print(\"Number of Brand car is\",len(brand_cars), \"brand\")\n",
    "\n",
    "#1.3 ให้เขียนคำสั่งโปรแกรมตรวจสอบมียี่ห้อรถ Suzuki,Ferrari,Ford อยู่ใน cars หรือไม่\n",
    "print(\"Have Suzuki in brand car? = \", \"Suzuki\" in brand_cars)\n",
    "print(\"Have Ferrari in brand car? = \", \"Ferrari\" in brand_cars)\n",
    "print(\"Have Ford in brand car? = \", \"Ford\" in brand_cars)\n",
    "\n",
    "\n"
   ]
  },
  {
   "cell_type": "code",
   "execution_count": null,
   "metadata": {},
   "outputs": [],
   "source": []
  }
 ],
 "metadata": {
  "kernelspec": {
   "display_name": "Python 3",
   "language": "python",
   "name": "python3"
  },
  "language_info": {
   "codemirror_mode": {
    "name": "ipython",
    "version": 3
   },
   "file_extension": ".py",
   "mimetype": "text/x-python",
   "name": "python",
   "nbconvert_exporter": "python",
   "pygments_lexer": "ipython3",
   "version": "3.7.4"
  }
 },
 "nbformat": 4,
 "nbformat_minor": 2
}
